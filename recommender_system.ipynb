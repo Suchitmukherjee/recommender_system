{
 "cells": [
  {
   "cell_type": "markdown",
   "metadata": {},
   "source": [
    "### <span style='color:purple'>Cleaning the Dataframe</span>"
   ]
  },
  {
   "cell_type": "code",
   "execution_count": 2,
   "metadata": {},
   "outputs": [],
   "source": [
    "import pandas as pd\n",
    "df = pd.read_csv(\"./ready_files/random_500_reviews_df.csv\")\n",
    "df.drop([\"designer\", \"perfume_group\", \"main_accords\", \"all_notes\"], axis = 1, inplace = True)\n",
    "\n",
    "df['perfume_name'] = df['perfume_name'].map(lambda x: x.strip())\n",
    "\n",
    "df.rename(columns = {'review_test' : 'review', \n",
    "                     'customer-id' : 'customer_id'}, inplace = True)\n",
    "\n",
    "# shuffling the dataframe, keeping it at its origianl size\n",
    "df = df.sample(frac = 1)\n",
    "\n",
    "# cleaning the reviews text\n",
    "df['review'] = df['review'].map(lambda x: x[20:].strip().replace('\\n',''))\n"
   ]
  },
  {
   "cell_type": "markdown",
   "metadata": {},
   "source": [
    "### <span style='color:purple'>Vader Sentiment analysis, to create sentiment column </span> \n",
    "Resutls are between -1 to 1, similar to TextBlob, with 0 being neutral. Vader performs better than TextBlob. It is designed to anlayse text from social media. <br /> \n",
    "[About Vader, and Using it](https://medium.com/analytics-vidhya/simplifying-social-media-sentiment-analysis-using-vader-in-python-f9e6ec6fc52f)"
   ]
  },
  {
   "cell_type": "code",
   "execution_count": 3,
   "metadata": {},
   "outputs": [],
   "source": [
    "# !pip install vaderSentiment\n",
    "\n",
    "from vaderSentiment.vaderSentiment import SentimentIntensityAnalyzer\n",
    "analyser = SentimentIntensityAnalyzer()\n",
    "\n",
    "Vader_sentiment = []\n",
    "for v in df['review']:\n",
    "    Vader_sentiment.append(analyser.polarity_scores(v)['compound']) # to get only the compound score\n",
    "    \n",
    "df['vader_sentiment'] = Vader_sentiment # sentiment is a float between -1 and 1, 0 is neutral\n"
   ]
  },
  {
   "cell_type": "markdown",
   "metadata": {},
   "source": [
    "### <span style='color:purple'>Creating A User Based Recommender System</span> Based on cosine similarity"
   ]
  },
  {
   "cell_type": "code",
   "execution_count": 4,
   "metadata": {},
   "outputs": [],
   "source": [
    "def user_based_recommender_df(df):\n",
    "    \"\"\"\n",
    "    Returns a data frame of cosine similarity values of the users. \n",
    "    \n",
    "    Parameters: \n",
    "    -----------\n",
    "    df: \n",
    "        the data frame of the users' ids, the review text, the perfume name, and the sentiment analysis. \n",
    "        df columns should be names this: \"customer_id\", \"review\", \"perfume_name\", and \"vader_sentiment\"\n",
    "    \"\"\"\n",
    "    \n",
    "    df = df.drop('review', axis = 1) # we don't need the review column any more\n",
    "\n",
    "    pivot_user = df.pivot_table(index = 'customer_id', columns = 'perfume_name', values = 'vader_sentiment')\n",
    "\n",
    "    from scipy import sparse\n",
    "    pivot_user_sparse = sparse.csr_matrix(pivot_user.fillna(0))\n",
    "\n",
    "    from sklearn.metrics.pairwise import cosine_similarity\n",
    "    recommender_user = cosine_similarity(pivot_user_sparse) # outputs dense matrix by default. \n",
    "\n",
    "    recommender_user_df = pd.DataFrame(recommender_user, \n",
    "                                 index = pivot_user.index, \n",
    "                                 columns = pivot_user.index)\n",
    "    return recommender_user_df\n",
    "\n"
   ]
  },
  {
   "cell_type": "code",
   "execution_count": 5,
   "metadata": {},
   "outputs": [],
   "source": [
    "# WHICH PERFUMES WE SHOULD RECOMMEND TO THE NEW/ENETERED USER\n",
    "#-------------------------------------------------------------\n",
    "def recommend_perfumes(q): \n",
    "    \"\"\"\n",
    "    Returns a list of perfumes names, user q has not yet tried, and a similar user already liked.\n",
    "    \n",
    "    Parameters:\n",
    "    -----------\n",
    "    q:\n",
    "        User ID from available ones. See df['customer_id'] for available values\n",
    "    \"\"\"\n",
    "    \n",
    "    # find most similar user\n",
    "    most_similar_user = user_based_recommender_df(df)[q].sort_values(ascending = False).index[1]\n",
    "    \n",
    "    # find the list of perfume_names reviewed by a the most_similar_user that he/she liked! (positive sentiment)\n",
    "    reviewed_by_similar = list(df.loc[(df['customer_id'] == most_similar_user) & (df['vader_sentiment'] > 0)\n",
    "       , ['perfume_name', 'customer_id']]['perfume_name'].values)\n",
    "    \n",
    "    # find list of perfumes reviewed by q, our \"new\" user\n",
    "    q_reviewed = list(df.loc[df['customer_id'] == q\n",
    "       , ['perfume_name', 'customer_id']]['perfume_name'].values)\n",
    "    \n",
    "    # find perfumes q should try\n",
    "    return set(reviewed_by_similar).difference(set(q_reviewed)) # recommend these to \"new\" user\n",
    "\n"
   ]
  },
  {
   "cell_type": "markdown",
   "metadata": {},
   "source": [
    "### <span style='color:purple'>Creating An Item Based Recommender System</span>"
   ]
  },
  {
   "cell_type": "code",
   "execution_count": 6,
   "metadata": {},
   "outputs": [],
   "source": [
    "def item_based_recommender_df(df):\n",
    "    \"\"\"\n",
    "    Returns a data frame of cosine similarity values of the items. \n",
    "    \n",
    "    Parameters: \n",
    "    -----------\n",
    "    df: \n",
    "        the data frame of the users' ids, the review text, the perfume name, and the sentiment analysis. \n",
    "        df columns should be names this: \"customer_id\", \"review\", \"perfume_name\", and \"vader_sentiment\"\n",
    "    \"\"\"\n",
    "    \n",
    "    \n",
    "    # Step 1: create the pivot table\n",
    "    # Must drop irralevant columns first! No need for the actual review text, we have the rating now\n",
    "\n",
    "    # df = df.drop(['review'], axis = 1) # uncomment if this cell ran first or on its own\n",
    "\n",
    "    pivot = df.pivot_table(index = 'perfume_name', columns ='customer_id' , values = 'vader_sentiment')\n",
    "\n",
    "    # Step 2: turn it into a sparse matrix\n",
    "    from scipy import sparse\n",
    "\n",
    "    pivot_sparse = sparse.csr_matrix(pivot.fillna(0))\n",
    "\n",
    "    # Step 3: creating the recommender\n",
    "    from sklearn.metrics.pairwise import cosine_similarity\n",
    "\n",
    "    recommender = cosine_similarity(pivot_sparse) # outputs a dense matrix by defalt.\n",
    "\n",
    "    # Step 4: to visualize and search on\n",
    "    recommender_df = pd.DataFrame(recommender, \n",
    "                                  index=pivot.index, \n",
    "                                  columns=pivot.index)\n",
    "    return recommender_df\n",
    "\n"
   ]
  },
  {
   "cell_type": "code",
   "execution_count": 7,
   "metadata": {},
   "outputs": [],
   "source": [
    "# SEARCHING ON THE ITEM-BASED RECOMMENDER\n",
    "#------------------------------------------\n",
    "def similar_perfumes(liked_perfume):\n",
    "    \"\"\"\n",
    "    Returns a list of most similar 20 perfumes.\n",
    "    \n",
    "    Parameters:\n",
    "    -----------\n",
    "    liked_perfume:\n",
    "        Name of the perfume you want to find similar perfumes to. MUST BE ENTERED EXACTLY AS IT IS, as a string.\n",
    "        For an idea what to enter, type df['perfume_name']\n",
    "    \"\"\"\n",
    "    return item_based_recommender_df(df)[liked_perfume].sort_values(ascending = False)[1:21]\n"
   ]
  },
  {
   "cell_type": "markdown",
   "metadata": {},
   "source": [
    "### <span style='color:purple'> The Ready-to-use Function, combining everything </span>"
   ]
  },
  {
   "cell_type": "code",
   "execution_count": 8,
   "metadata": {},
   "outputs": [],
   "source": [
    "# THE ONE EASY-TO-USE FUNCTION NEEDED NOW\n",
    "#-----------------------------------------\n",
    "def for_biggest_reviewers(user_id):\n",
    "    \"\"\"\n",
    "    This function combines everything together. It first tries a user-based recommender to print out perfumes the \n",
    "    most similar user liked. If that is an empty set, it prints out similar perfumes to the top three liked by this \n",
    "    entered user. \n",
    "    \n",
    "    Parameters:\n",
    "    -----------\n",
    "    user_id: \n",
    "        Pick from the user_id columns for users in the system. Type df['customer_id'] to see possible ones.\n",
    "    \"\"\"\n",
    "    \n",
    "    recommendations = len(recommend_perfumes(user_id))\n",
    "    \n",
    "    if recommendations != 0:\n",
    "        print(recommend_perfumes(user_id))\n",
    "    \n",
    "    elif recommendations == 0:\n",
    "        # get the top 3 liked perfume names\n",
    "        top_liked = list(df.loc[df['customer_id']== user_id , :].sort_values(by = 'vader_sentiment', \n",
    "                                                           ascending = False)[:3]['perfume_name'].values)\n",
    "\n",
    "        # run the item-based recommender, only , for each top liked perfume of the three\n",
    "        for k in top_liked:\n",
    "            print(similar_perfumes(k).head(3))"
   ]
  },
  {
   "cell_type": "markdown",
   "metadata": {},
   "source": [
    "***"
   ]
  },
  {
   "cell_type": "markdown",
   "metadata": {},
   "source": [
    "#### <span style='color:purple'> Usage Examples </span>"
   ]
  },
  {
   "cell_type": "code",
   "execution_count": 9,
   "metadata": {},
   "outputs": [
    {
     "name": "stdout",
     "output_type": "stream",
     "text": [
      "{'Cuir Amethyste Giorgio Armani for women and men'}\n"
     ]
    }
   ],
   "source": [
    "for_biggest_reviewers(1020788)"
   ]
  },
  {
   "cell_type": "code",
   "execution_count": 10,
   "metadata": {},
   "outputs": [
    {
     "name": "stdout",
     "output_type": "stream",
     "text": [
      "{'Allure Homme Edition Blanche Chanel for men', 'Pi Neo Givenchy for men', 'Dior Homme Intense 2007 Christian Dior for men'}\n"
     ]
    }
   ],
   "source": [
    "for_biggest_reviewers(28013) "
   ]
  },
  {
   "cell_type": "code",
   "execution_count": 11,
   "metadata": {},
   "outputs": [
    {
     "name": "stdout",
     "output_type": "stream",
     "text": [
      "66262\n",
      "perfume_name\n",
      "L'Eau d'Issey Summer 2018 Issey Miyake for women           0.194002\n",
      "Eau de Parfum With Holiday Decor Issey Miyake for women    0.173453\n",
      "212 Ice Carolina Herrera for women                         0.135198\n",
      "Name: Hypnose Hypnotizing Elixir Lancome for women, dtype: float64\n"
     ]
    }
   ],
   "source": [
    "# generate a random user id, and run recommendations for her/him\n",
    "random_user = df['customer_id'].sample(n=1).values[0]\n",
    "print(random_user)\n",
    "for_biggest_reviewers(random_user)"
   ]
  },
  {
   "cell_type": "code",
   "execution_count": 12,
   "metadata": {},
   "outputs": [
    {
     "name": "stdout",
     "output_type": "stream",
     "text": [
      "7262\n",
      "{'Amouage Epic Woman Amouage for women', 'Acqua di Gioia Essenza Giorgio Armani for women', 'Hermessence Santal Massoïa Hermès for women and men', \"Safran Troublant L'Artisan Parfumeur for women and men\", 'Cuir Amethyste Giorgio Armani for women and men', \"Guerlain Chant d'Aromes Guerlain for women\", 'Vanisia Creed for women', 'Ombre de Hyacinth Tom Ford for women and men', 'Reflection Woman Amouage for women', 'Aqua Allegoria Herba Fresca Guerlain for women and men', 'Flowerbomb La Vie en Rose 2011 Viktor&Rolf for women', 'Jonquille de Nuit Tom Ford for women and men', \"L'eau d'Issey Eau de Parfum Issey Miyake for women\", 'Woman Donna Karan for women', 'Pure DKNY Verbena Donna Karan for women', \"Infusion d'Iris Eau de Parfum Absolue Prada for women\", 'So Elixir Purple Eau de Parfum Yves Rocher for women', 'By Dolce&Gabbana for women', 'Amazone (1974) Hermès for women'}\n"
     ]
    }
   ],
   "source": [
    "# generate a random user id, and run recommendations for her/him\n",
    "random_user = df['customer_id'].sample(n=1).values[0]\n",
    "print(random_user)\n",
    "for_biggest_reviewers(random_user)"
   ]
  },
  {
   "cell_type": "code",
   "execution_count": 13,
   "metadata": {},
   "outputs": [
    {
     "name": "stdout",
     "output_type": "stream",
     "text": [
      "24302\n",
      "perfume_name\n",
      "Champ de Fleurs L'Artisan Parfumeur for women and men    0.133438\n",
      "Must de Cartier Clair De Jasmin Cartier for women        0.098301\n",
      "No4 Fleurs d'Oranger Prada for women and men             0.097034\n",
      "Name: De Profundis Serge Lutens for women and men, dtype: float64\n",
      "perfume_name\n",
      "Versense Versace for women             0.094061\n",
      "Euphoria Calvin Klein for women        0.073945\n",
      "Diorissimo Christian Dior for women    0.070983\n",
      "Name: Weekend for Women Burberry for women, dtype: float64\n",
      "perfume_name\n",
      "Cuir Amethyste Giorgio Armani for women and men        0.171475\n",
      "Amber & Patchouli Jo Malone London for men             0.165426\n",
      "Riviera Dream - Lime Ralph Lauren for women and men    0.165426\n",
      "Name: Fleur de Chine Tom Ford for women and men, dtype: float64\n"
     ]
    }
   ],
   "source": [
    "# generate a random user id, and run recommendations for her/him\n",
    "random_user = df['customer_id'].sample(n=1).values[0]\n",
    "print(random_user)\n",
    "for_biggest_reviewers(random_user)"
   ]
  }
 ],
 "metadata": {
  "kernelspec": {
   "display_name": "Python 3",
   "language": "python",
   "name": "python3"
  },
  "language_info": {
   "codemirror_mode": {
    "name": "ipython",
    "version": 3
   },
   "file_extension": ".py",
   "mimetype": "text/x-python",
   "name": "python",
   "nbconvert_exporter": "python",
   "pygments_lexer": "ipython3",
   "version": "3.6.8"
  }
 },
 "nbformat": 4,
 "nbformat_minor": 2
}
